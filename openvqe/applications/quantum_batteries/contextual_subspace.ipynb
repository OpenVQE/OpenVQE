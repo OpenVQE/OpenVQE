{
 "cells": [
  {
   "cell_type": "markdown",
   "id": "67392cf0-d09f-4057-b6fa-689f0e5ed599",
   "metadata": {},
   "source": [
    "# Contextual Subspace for Lithium-ion Battery\n",
    "\n",
    "This notebook focusses on calculating the contextual subspace hamiltonians for the Li$_2$FeSiO$_4$ material. This can be found in the battery explorer of [Materials Project](https://next-gen.materialsproject.org/batteries/mp-758173_Li?elements=Li%2CFe%2CSi%2CO) (ID: mp-758173, ID of the material: mp-759942)."
   ]
  },
  {
   "cell_type": "code",
   "execution_count": 3,
   "id": "9f98bdef-8074-40dc-b3f1-b9940be034c7",
   "metadata": {},
   "outputs": [],
   "source": [
    "import json\n",
    "from tangelo import SecondQuantizedMolecule\n",
    "from tangelo.toolboxes.molecular_computation.integral_solver_pyscf import mol_to_pyscf, IntegralSolverPySCF\n",
    "from tangelo.toolboxes.molecular_computation.frozen_orbitals import get_orbitals_excluding_homo_lumo\n",
    "from time import time\n",
    "from tangelo.algorithms import VQESolver, CCSDSolver\n",
    "from tangelo.toolboxes.qubit_mappings.mapping_transform import fermion_to_qubit_mapping\n",
    "from tangelo.toolboxes.operators import count_qubits\n",
    "import matplotlib.pyplot as plt\n",
    "import pickle\n",
    "import os\n",
    "import numpy as np"
   ]
  },
  {
   "cell_type": "markdown",
   "id": "31716c36-1fe8-47d7-8846-4b1b1c41b3e7",
   "metadata": {},
   "source": [
    "## Loading the unit cell\n",
    "\n",
    "The obtained structure of the unit cell is in fractional coordinates. To start working with the material, we need to convert them into cartesian coordinates. We use the method described [here](https://www.ruppweb.org/Xray/tutorial/Coordinate%20system%20transformation.htm) which involves a matrix multiplication to the fractional coordinates. The function takes the information about the lattice i.e. $a, b, c, \\alpha, \\beta, \\gamma$ and returns the corresponding transformation matrix"
   ]
  },
  {
   "cell_type": "code",
   "execution_count": 4,
   "id": "d9a46f5a-ea03-4d4d-bce7-a8804ca3463e",
   "metadata": {},
   "outputs": [],
   "source": [
    "def get_fractional_to_cartesian_matrix(a, b, c, alpha, beta, gamma,\n",
    "                                       angle_in_degrees=True):\n",
    "    if angle_in_degrees:\n",
    "        # Convert angles to radians\n",
    "        alpha = np.radians(alpha)\n",
    "        beta = np.radians(beta)\n",
    "        gamma = np.radians(gamma)\n",
    "        \n",
    "    lattice_a = np.array([a, 0, 0])\n",
    "    lattice_b = np.array([b * np.cos(gamma), b * np.sin(gamma), 0])\n",
    "\n",
    "    n2 = (np.cos(alpha) - np.cos(beta) * np.cos(gamma)) / np.sin(gamma)\n",
    "    lattice_c = c * np.array([\n",
    "        np.cos(beta),\n",
    "        n2,\n",
    "        np.sqrt(1 - np.cos(alpha)**2 - np.cos(beta)**2 - np.cos(gamma)**2 + 2*np.cos(alpha)*np.cos(beta)*np.cos(gamma)) / np.sin(gamma) \n",
    "    ])\n",
    "\n",
    "    return np.array([lattice_a, lattice_b, lattice_c]).T"
   ]
  },
  {
   "cell_type": "markdown",
   "id": "7b80d1c4-4094-46b1-ac64-931e2d97040f",
   "metadata": {},
   "source": [
    "We load the structure from .cif file and transform the coordinates to cartesian"
   ]
  },
  {
   "cell_type": "code",
   "execution_count": 5,
   "id": "59057216-7d96-4662-ab88-9ba3f477d6b9",
   "metadata": {},
   "outputs": [],
   "source": [
    "f = open('Li2FeSiO4.cif') # Li₂FeSiO₄\n",
    "data = f.readlines()\n",
    "data_lines = data[-16:]\n",
    "\n",
    "def process(line):\n",
    "    res = line.strip().split()\n",
    "    atom = res[0][:-1]\n",
    "    pos = [float(res[3]), float(res[4]), float(res[5])]\n",
    "\n",
    "    if atom != 'Li':\n",
    "        atom = atom[:-1]\n",
    "    return (atom, pos)\n",
    "\n",
    "res = list(map(process, data_lines))\n",
    "\n",
    "symbols = [i[0] for i in res]\n",
    "coords = [i[1] for i in res]"
   ]
  },
  {
   "cell_type": "code",
   "execution_count": 6,
   "id": "c32adec7-db04-4de9-92f5-5d9906af2740",
   "metadata": {},
   "outputs": [
    {
     "data": {
      "text/plain": [
       "{'a': 5.132302,\n",
       " 'b': 11.037342,\n",
       " 'c': 6.23237968,\n",
       " 'alpha': 90.0,\n",
       " 'beta': 91.30707992,\n",
       " 'gamma': 90.0}"
      ]
     },
     "execution_count": 6,
     "metadata": {},
     "output_type": "execute_result"
    }
   ],
   "source": [
    "lattice_info = {}\n",
    "for i in data[3:9]:\n",
    "    res = i.strip().split()\n",
    "    lattice_info[res[0].split('_')[-1]] = float(res[1])\n",
    "\n",
    "lattice_info"
   ]
  },
  {
   "cell_type": "code",
   "execution_count": 7,
   "id": "4cd3d412-f475-4101-88cd-741a75e7b1ab",
   "metadata": {},
   "outputs": [],
   "source": [
    "M = get_fractional_to_cartesian_matrix(*list(lattice_info.values()))\n",
    "coords = (M @ (np.array(coords).T)).T"
   ]
  },
  {
   "cell_type": "code",
   "execution_count": 8,
   "id": "1ef6ec8f-fe41-4e92-90c7-64b041255742",
   "metadata": {},
   "outputs": [],
   "source": [
    "geometry = \"\"\n",
    "for i, symbol in enumerate(symbols):\n",
    "    geometry += f\"{symbol} {coords[i][0]} {coords[i][1]} {coords[i][2]}\\n\""
   ]
  },
  {
   "cell_type": "markdown",
   "id": "a2fc193e-9d45-4a5a-8f14-0b1b69690a03",
   "metadata": {},
   "source": [
    "Now that we have the geometry of the material at hand, we can create a second quantized molecule. For this we use [tangelo](https://github.com/goodchemistryco/Tangelo), an open-source python package."
   ]
  },
  {
   "cell_type": "code",
   "execution_count": 9,
   "id": "b5685fea-30f0-49aa-9986-e6cf2d08e1c6",
   "metadata": {},
   "outputs": [],
   "source": [
    "class MyIntegralSolverPySCF(IntegralSolverPySCF):\n",
    "    def compute_mean_field(self, sqmol):\n",
    "        molecule = mol_to_pyscf(sqmol, sqmol.basis, sqmol.symmetry, sqmol.ecp)\n",
    "\n",
    "        sqmol.mean_field = self.scf.RHF(molecule) if not sqmol.uhf else self.scf.UHF(molecule)\n",
    "        sqmol.mean_field.verbose = 0\n",
    "        sqmol.mean_field.conv_tol = 1e-5\n",
    "        \n",
    "        self.chkfile = 'mf_chkfile'\n",
    "        sqmol.mean_field.chkfile = self.chkfile\n",
    "        chkfile_found=True\n",
    "\n",
    "        # Force broken symmetry for uhf calculation when spin is 0 as shown in\n",
    "        # https://github.com/sunqm/pyscf/blob/master/examples/scf/32-break_spin_symm.py\n",
    "        if sqmol.uhf and sqmol.spin == 0 and not chkfile_found:\n",
    "            dm_alpha, dm_beta = sqmol.mean_field.get_init_guess()\n",
    "            dm_beta[:1, :] = 0\n",
    "            dm = (dm_alpha, dm_beta)\n",
    "            sqmol.mean_field.kernel(dm)\n",
    "        else:\n",
    "            sqmol.mean_field.init_guess = \"chkfile\" if chkfile_found else \"minao\"\n",
    "            sqmol.mean_field.kernel()\n",
    "\n",
    "        sqmol.mean_field.analyze()\n",
    "        if not sqmol.mean_field.converged:\n",
    "            raise ValueError(\"Hartree-Fock calculation did not converge\")\n",
    "\n",
    "        if sqmol.symmetry:\n",
    "            self.assign_mo_coeff_symmetries(sqmol)\n",
    "        else:\n",
    "            sqmol.mo_symm_ids = None\n",
    "            sqmol.mo_symm_labels = None\n",
    "\n",
    "        sqmol.mf_energy = sqmol.mean_field.e_tot\n",
    "        sqmol.mo_energies = sqmol.mean_field.mo_energy\n",
    "        sqmol.mo_occ = sqmol.mean_field.mo_occ\n",
    "\n",
    "        sqmol.n_mos = molecule.nao_nr()\n",
    "        sqmol.n_sos = 2*sqmol.n_mos\n",
    "\n",
    "        self.mo_coeff = sqmol.mean_field.mo_coeff\n",
    "\n",
    "\n",
    "class MySQMol(SecondQuantizedMolecule):    \n",
    "    def __post_init__(self):\n",
    "        self.solver = MyIntegralSolverPySCF()\n",
    "        self.solver.set_physical_data(self)\n",
    "        self.solver.compute_mean_field(self)\n",
    "        self.freeze_mos(self.frozen_orbitals)"
   ]
  },
  {
   "cell_type": "code",
   "execution_count": 10,
   "id": "631502c8-01a9-43fc-9f84-7b1152ec5bed",
   "metadata": {},
   "outputs": [
    {
     "name": "stdout",
     "output_type": "stream",
     "text": [
      "CPU times: user 15.6 s, sys: 5.04 s, total: 20.6 s\n",
      "Wall time: 1.86 s\n"
     ]
    }
   ],
   "source": [
    "%%time\n",
    "mol = MySQMol(geometry, q=0, spin=0, basis=\"sto3g\", frozen_orbitals=\"frozen_core\")"
   ]
  },
  {
   "cell_type": "code",
   "execution_count": 11,
   "id": "2c4128b1-deb7-453f-9ace-2adc9c11efe1",
   "metadata": {},
   "outputs": [
    {
     "name": "stdout",
     "output_type": "stream",
     "text": [
      "92 active molecular orbitals\n",
      "112 active electrons\n"
     ]
    }
   ],
   "source": [
    "print(f\"{mol.n_active_mos} active molecular orbitals\")\n",
    "print(f\"{mol.n_active_electrons} active electrons\")"
   ]
  },
  {
   "cell_type": "markdown",
   "id": "f993be0c-55c2-484d-a55f-7af670c42a02",
   "metadata": {},
   "source": [
    "## Active space reduction\n",
    "\n",
    "Since the number of orbitals are 92, it would require 184 qubits quantum circuit and also the depth of the circuit will be high. We perform active space selection by selecting orbitals near HOMO-LUMO levels. We define the active space from HOMO-3 to LUMO+3"
   ]
  },
  {
   "cell_type": "code",
   "execution_count": 12,
   "id": "e3ff9593-eb46-4b92-94de-a54a7b809444",
   "metadata": {},
   "outputs": [
    {
     "name": "stdout",
     "output_type": "stream",
     "text": [
      "8 active molecular orbitals\n",
      "8 active electrons\n"
     ]
    }
   ],
   "source": [
    "# Selecting HOMO-3 to LUMO+3 orbitals.\n",
    "n = 3\n",
    "frozen_orbitals = get_orbitals_excluding_homo_lumo(mol, homo_minus_n=n, lumo_plus_n=n)\n",
    "frozen_mol = mol.freeze_mos(frozen_orbitals, inplace=False)\n",
    "\n",
    "print(f\"{frozen_mol.n_active_mos} active molecular orbitals\")\n",
    "print(f\"{frozen_mol.n_active_electrons} active electrons\")"
   ]
  },
  {
   "cell_type": "markdown",
   "id": "a0db65dc-1809-45bc-bcba-ead50faeb305",
   "metadata": {},
   "source": [
    "Following this approach, we decrease the number of considered orbitals from 92 to 8. With conventional fermion-to-qubit mappings, the number of qubits can be reduced from 184 to 16."
   ]
  },
  {
   "cell_type": "markdown",
   "id": "47777812-9af6-45ea-be2f-8ecdead02d03",
   "metadata": {},
   "source": [
    "## Classical Solution"
   ]
  },
  {
   "cell_type": "code",
   "execution_count": 13,
   "id": "d07187fc-dd84-411c-af74-bfffd9fef08a",
   "metadata": {},
   "outputs": [
    {
     "name": "stdout",
     "output_type": "stream",
     "text": [
      "CCSD Energy: -3688.038668601514\n",
      "CPU times: user 21.1 s, sys: 2.06 s, total: 23.2 s\n",
      "Wall time: 2.07 s\n"
     ]
    }
   ],
   "source": [
    "%%time\n",
    "\n",
    "ccsd_solver = CCSDSolver(frozen_mol)\n",
    "ccsd_energy = ccsd_solver.simulate()\n",
    "print(\"CCSD Energy:\", ccsd_energy)"
   ]
  },
  {
   "cell_type": "code",
   "execution_count": 14,
   "id": "1c2fe6c1-d294-45dd-bd06-fa964909b74f",
   "metadata": {},
   "outputs": [
    {
     "data": {
      "text/plain": [
       "(-3688.038668601514, -3687.9834423765624)"
      ]
     },
     "execution_count": 14,
     "metadata": {},
     "output_type": "execute_result"
    }
   ],
   "source": [
    "ccsd_energy, mol.mf_energy"
   ]
  },
  {
   "cell_type": "markdown",
   "id": "f970e269-c30d-4963-8280-3af5248540b3",
   "metadata": {},
   "source": [
    "## Resource requirement for a full VQE\n",
    "\n",
    "We show resource requirements using UCCSD ansatz. For quantum computers in the NISQ era, this is infeasible in terms of the depth of the circuit."
   ]
  },
  {
   "cell_type": "code",
   "execution_count": 15,
   "id": "f91fb103-6933-4751-b06a-e6fd4ab4ff73",
   "metadata": {},
   "outputs": [
    {
     "name": "stdout",
     "output_type": "stream",
     "text": [
      "{\n",
      "  \"qubit_hamiltonian_terms\": 5793,\n",
      "  \"circuit_width\": 16,\n",
      "  \"circuit_depth\": 43371,\n",
      "  \"circuit_2qubit_gates\": 36480,\n",
      "  \"circuit_var_gates\": 2688,\n",
      "  \"vqe_variational_parameters\": 152\n",
      "}\n",
      "CPU times: user 1min 38s, sys: 20 s, total: 1min 58s\n",
      "Wall time: 14.9 s\n"
     ]
    }
   ],
   "source": [
    "%%time\n",
    "\n",
    "options_vqe = {\"molecule\": frozen_mol, \"qubit_mapping\": \"jw\", \"verbose\": False}\n",
    "vqe = VQESolver(options_vqe)\n",
    "vqe.build()\n",
    "resources_vqe = vqe.get_resources()\n",
    "print(json.dumps(resources_vqe, indent=2))"
   ]
  },
  {
   "cell_type": "markdown",
   "id": "bf3fc1d1-da59-4173-8a89-a9acd692158e",
   "metadata": {},
   "source": [
    "## Analysis on Active space reduction\n",
    "\n",
    "We varied the HUMO-LUMO levels from 1 till 6 and plotted the qubit and measurement requirements as shown below. It is evident that any quantum algorithm for the challenge should not only aim to reduce the number of qubits but also handle the large number of hamiltonian terms efficiently as they scale exponentially with the number of qubits. Considering the time constraints, we continue our experiments with 16 qubit Hamiltonian."
   ]
  },
  {
   "cell_type": "code",
   "execution_count": 15,
   "id": "699196b1-9c91-45d9-bc65-f3f83aadcca5",
   "metadata": {},
   "outputs": [
    {
     "name": "stdout",
     "output_type": "stream",
     "text": [
      "1 Duration: 11.36457085609436\n",
      "2 Duration: 12.210785865783691\n",
      "3 Duration: 14.00115156173706\n",
      "4 Duration: 19.16388463973999\n",
      "5 Duration: 29.267853021621704\n",
      "6 Duration: 47.157281160354614\n"
     ]
    }
   ],
   "source": [
    "qubit_reqs = []\n",
    "num_terms = []\n",
    "\n",
    "max_level = 7\n",
    "for level in range(1,max_level):\n",
    "\n",
    "    start = time()\n",
    "    _frozen_orbitals = get_orbitals_excluding_homo_lumo(mol, homo_minus_n=level, lumo_plus_n=level)\n",
    "    _frozen_mol = mol.freeze_mos(_frozen_orbitals, inplace=False)\n",
    "\n",
    "    qu_op = fermion_to_qubit_mapping(_frozen_mol.fermionic_hamiltonian, mapping=\"JW\", \n",
    "                                 n_spinorbitals=_frozen_mol.n_active_sos, n_electrons=_frozen_mol.n_active_electrons, \n",
    "                                 spin=_frozen_mol.spin, up_then_down=False)\n",
    "\n",
    "    qubit_reqs.append(count_qubits(qu_op))\n",
    "    num_terms.append(len(qu_op.terms))\n",
    "\n",
    "    del qu_op, _frozen_mol, _frozen_orbitals\n",
    "    \n",
    "    print(level, \"Duration:\", time() - start)"
   ]
  },
  {
   "cell_type": "code",
   "execution_count": 18,
   "id": "b45ff431-d21c-470f-8ee5-cefe25fc984f",
   "metadata": {},
   "outputs": [
    {
     "data": {
      "image/png": "[encoded data removed]",
      "text/plain": [
       "<Figure size 1200x500 with 2 Axes>"
      ]
     },
     "metadata": {},
     "output_type": "display_data"
    }
   ],
   "source": [
    "fig,ax = plt.subplots(1,2,figsize=(12,5))\n",
    "ax[0].plot(range(1,max_level), qubit_reqs, marker='o')\n",
    "ax[0].set_xlabel('# HOMO-LUMO')\n",
    "ax[0].set_ylabel('# qubits')\n",
    "ax[0].set_xticks(range(1,max_level))\n",
    "ax[0].set_yticks(qubit_reqs)\n",
    "\n",
    "ax[1].plot(range(1,max_level), num_terms, marker='o', color='green')\n",
    "ax[1].set_xlabel('# HOMO-LUMO')\n",
    "ax[1].set_ylabel('# Ham terms')\n",
    "ax[1].set_xticks(range(1,max_level))\n",
    "ax[1].set_yticks(num_terms);"
   ]
  },
  {
   "cell_type": "code",
   "execution_count": 14,
   "id": "5692f5e0-2377-44f3-90d2-88c7f47dd14e",
   "metadata": {},
   "outputs": [
    {
     "name": "stdout",
     "output_type": "stream",
     "text": [
      "CPU times: user 1min 43s, sys: 12.1 s, total: 1min 55s\n",
      "Wall time: 14.4 s\n"
     ]
    }
   ],
   "source": [
    "%%time\n",
    "qu_op = fermion_to_qubit_mapping(frozen_mol.fermionic_hamiltonian, mapping=\"JW\", \n",
    "                                 n_spinorbitals=frozen_mol.n_active_sos, n_electrons=frozen_mol.n_active_electrons, \n",
    "                                 spin=frozen_mol.spin, up_then_down=False)\n",
    "n_qubits = count_qubits(qu_op)"
   ]
  },
  {
   "cell_type": "markdown",
   "id": "4a96cc1d-8014-4030-9b00-cc504fefa0ff",
   "metadata": {},
   "source": [
    "## Qubit Tapering\n",
    "\n",
    "Before we apply CS-VQE, one might as well perform qubit tapering since it does not introduce any systematic error. The number of qubits is reduced to 14 from 16. However, the number of hamiltonian terms are unaffected which can cause large measurement overhead. "
   ]
  },
  {
   "cell_type": "code",
   "execution_count": 49,
   "id": "e74c0414-6d89-4bc0-9d5a-5c4a4f4572a5",
   "metadata": {},
   "outputs": [],
   "source": [
    "from symmer import PauliwordOp\n",
    "from symmer.projection import ContextualSubspace\n",
    "from symmer.utils import exact_gs_energy\n",
    "from symmer.projection import QubitTapering\n",
    "import pennylane as qml\n",
    "from symmer.operators import IndependentOp"
   ]
  },
  {
   "cell_type": "code",
   "execution_count": 50,
   "id": "7911bcf3-e3cb-4eeb-ac66-f07288f840a0",
   "metadata": {},
   "outputs": [
    {
     "data": {
      "text/plain": [
       "(5785, 16)"
      ]
     },
     "execution_count": 50,
     "metadata": {},
     "output_type": "execute_result"
    }
   ],
   "source": [
    "# convert openfermion to symmer ham\n",
    "coeffs = []\n",
    "term_list = []\n",
    "\n",
    "for term, coeff in qu_op.terms.items():\n",
    "    coeffs.append(coeff.real)\n",
    "    pauli_string = ['I']*n_qubits\n",
    "    for i, p in term:\n",
    "        pauli_string[i] = p\n",
    "    pauli_string = ''.join(pauli_string)\n",
    "    term_list.append(pauli_string)\n",
    "    \n",
    "H_q = PauliwordOp.from_list(term_list, coeffs)\n",
    "H_q.n_terms, H_q.n_qubits"
   ]
  },
  {
   "cell_type": "code",
   "execution_count": 51,
   "id": "cd9594cb-28e6-4d19-a17e-8a7934033fea",
   "metadata": {},
   "outputs": [
    {
     "data": {
      "text/plain": [
       "1 ZIZIZIZIZIZIZIZI \n",
       "1 IZIZIZIZIZIZIZIZ"
      ]
     },
     "execution_count": 51,
     "metadata": {},
     "output_type": "execute_result"
    }
   ],
   "source": [
    "IndependentOp.symmetry_generators(H_q, commuting_override=True)"
   ]
  },
  {
   "cell_type": "code",
   "execution_count": 52,
   "id": "7cc529a6-7c2a-4213-934a-6ec56f3d1bc2",
   "metadata": {},
   "outputs": [
    {
     "data": {
      "text/plain": [
       "-1 IXIIIIIIIIIIIIII \n",
       "-1 XIIIIIIIIIIIIIII"
      ]
     },
     "execution_count": 52,
     "metadata": {},
     "output_type": "execute_result"
    }
   ],
   "source": [
    "taper_hamiltonian = QubitTapering(H_q)\n",
    "taper_hamiltonian.stabilizers.rotate_onto_single_qubit_paulis()"
   ]
  },
  {
   "cell_type": "markdown",
   "id": "f8d85c76-46a2-4562-a137-087857d87e39",
   "metadata": {},
   "source": [
    "In order to perform the stabilizer subspace projection, we must also supply a symmetry sector or reference state."
   ]
  },
  {
   "cell_type": "code",
   "execution_count": 53,
   "id": "6ff5f478-6fa0-4fcb-9101-bb804c1fca8c",
   "metadata": {},
   "outputs": [
    {
     "data": {
      "text/plain": [
       "array([1, 1, 1, 1, 1, 1, 1, 1, 0, 0, 0, 0, 0, 0, 0, 0])"
      ]
     },
     "execution_count": 53,
     "metadata": {},
     "output_type": "execute_result"
    }
   ],
   "source": [
    "hf_array = qml.qchem.hf_state(frozen_mol.n_active_electrons, frozen_mol.n_active_sos)\n",
    "hf_array"
   ]
  },
  {
   "cell_type": "code",
   "execution_count": 54,
   "id": "13dd5aa5-6a9f-4e8e-897b-7ecedb5066b6",
   "metadata": {},
   "outputs": [
    {
     "name": "stdout",
     "output_type": "stream",
     "text": [
      "The symmetry sector corresponding with the reference state is [1. 1.]\n"
     ]
    }
   ],
   "source": [
    "taper_hamiltonian.stabilizers.update_sector(hf_array)\n",
    "print(f'The symmetry sector corresponding with the reference state is {taper_hamiltonian.stabilizers.coeff_vec}')"
   ]
  },
  {
   "cell_type": "code",
   "execution_count": 55,
   "id": "77d3a8c9-e30a-4d11-bbe3-86334d0544fe",
   "metadata": {},
   "outputs": [],
   "source": [
    "ham_tap = taper_hamiltonian.taper_it(ref_state=hf_array)"
   ]
  },
  {
   "cell_type": "code",
   "execution_count": 56,
   "id": "558fee08-242e-4303-8918-f9b385dca96c",
   "metadata": {},
   "outputs": [
    {
     "name": "stdout",
     "output_type": "stream",
     "text": [
      "Number of qubits: 16\n",
      "Number of qubits after tapering: 14\n",
      "Number of terms: 5785\n",
      "Number of terms after tapering: 5785\n",
      "2 Z2 symmetries detected\n"
     ]
    }
   ],
   "source": [
    "n_qubits_tapered = ham_tap.n_qubits\n",
    "\n",
    "print(f\"Number of qubits: {n_qubits}\")\n",
    "print(f\"Number of qubits after tapering: {n_qubits_tapered}\")\n",
    "\n",
    "print(f\"Number of terms: {H_q.n_terms}\")\n",
    "print(f\"Number of terms after tapering: {ham_tap.n_terms}\")\n",
    "\n",
    "print(f\"{n_qubits - n_qubits_tapered} Z2 symmetries detected\")"
   ]
  },
  {
   "cell_type": "markdown",
   "id": "77f494aa-0278-435c-9a7b-873a4cb996a9",
   "metadata": {},
   "source": [
    "## Contextual Subspace Projection\n",
    "\n",
    "This involves partitioning $H$ into noncontextual and contextual componenents satisfying $H = H_{contextual} + H_{noncon}$"
   ]
  },
  {
   "cell_type": "code",
   "execution_count": 77,
   "id": "691c6864-f99f-41fc-99be-6cea40129cec",
   "metadata": {},
   "outputs": [
    {
     "name": "stdout",
     "output_type": "stream",
     "text": [
      "num qubits: 8, Duration: 102.49231457710266\n",
      "num qubits: 7, Duration: 83.7322165966034\n",
      "num qubits: 6, Duration: 93.59304094314575\n",
      "reduce() of empty sequence with no initial value\n",
      "num qubits: 5, Duration: 99.05808568000793\n",
      "reduce() of empty sequence with no initial value\n",
      "num qubits: 4, Duration: 93.18911576271057\n",
      "reduce() of empty sequence with no initial value\n",
      "num qubits: 3, Duration: 84.51380729675293\n",
      "reduce() of empty sequence with no initial value\n",
      "num qubits: 2, Duration: 94.33418846130371\n",
      "reduce() of empty sequence with no initial value\n"
     ]
    }
   ],
   "source": [
    "hams = {}\n",
    "for q in range(8, 1, -1):\n",
    "\n",
    "    start = time()\n",
    "    cs_vqe = ContextualSubspace(ham_tap, \n",
    "                        noncontextual_strategy='StabilizeFirst', \n",
    "                        noncontextual_solver='binary_relaxation',\n",
    "                        unitary_partitioning_method='LCU')\n",
    "\n",
    "    # Quantum Corrections\n",
    "    cs_vqe.update_stabilizers(n_qubits = q)\n",
    "    H_cs = cs_vqe.project_onto_subspace()\n",
    "\n",
    "    print(f\"num qubits: {q}, Duration: {time()- start}\")\n",
    "    \n",
    "    try:\n",
    "        # Hartree-Fock in contextual subspace\n",
    "        hf_cs = cs_vqe.project_state_onto_subspace(taper_hamiltonian.tapered_ref_state) # Hartree-Fock in contextual subspace\n",
    "        hf_cs_dict = hf_cs.to_dictionary.copy()\n",
    "    except Exception as e:\n",
    "        print(e)\n",
    "        hf_cs_dict = {}\n",
    "\n",
    "    # Saving the contextual hamiltonian and hartree fock state\n",
    "    hams[q] = {\n",
    "        'ham': H_cs.to_dictionary.copy(),\n",
    "        'hf': hf_cs_dict.copy()\n",
    "    }\n",
    "\n",
    "    with open('CS_hams.pickle', 'wb') as handle:\n",
    "        pickle.dump(hams, handle, protocol=pickle.HIGHEST_PROTOCOL)\n",
    "\n",
    "    del cs_vqe"
   ]
  },
  {
   "cell_type": "markdown",
   "id": "40a5b176-d098-4b4c-86f9-19132c569bdf",
   "metadata": {},
   "source": [
    "## What's next?\n",
    "\n",
    "We can now perform a VQE simulation over these Contextual Hamiltonians which will yield the quantum-corrected energy."
   ]
  }
 ],
 "metadata": {
  "kernelspec": {
   "display_name": "openvqe",
   "language": "python",
   "name": "python3"
  },
  "language_info": {
   "codemirror_mode": {
    "name": "ipython",
    "version": 3
   },
   "file_extension": ".py",
   "mimetype": "text/x-python",
   "name": "python",
   "nbconvert_exporter": "python",
   "pygments_lexer": "ipython3",
   "version": "3.11.10"
  }
 },
 "nbformat": 4,
 "nbformat_minor": 5
}
